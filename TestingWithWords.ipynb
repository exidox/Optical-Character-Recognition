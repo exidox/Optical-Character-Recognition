{
 "cells": [
  {
   "cell_type": "code",
   "execution_count": 1,
   "metadata": {},
   "outputs": [],
   "source": [
    "import cv2 as cv\n",
    "import numpy as np\n",
    "import tensorflow as tf\n",
    "import imutils\n",
    "from imutils.contours import sort_contours"
   ]
  },
  {
   "cell_type": "code",
   "execution_count": 2,
   "metadata": {},
   "outputs": [],
   "source": [
    "chars=[]"
   ]
  },
  {
   "cell_type": "code",
   "execution_count": 3,
   "metadata": {},
   "outputs": [
    {
     "data": {
      "text/plain": [
       "list"
      ]
     },
     "execution_count": 3,
     "metadata": {},
     "output_type": "execute_result"
    }
   ],
   "source": [
    "type(chars)"
   ]
  },
  {
   "cell_type": "code",
   "execution_count": 4,
   "metadata": {},
   "outputs": [],
   "source": [
    "labelNames = ['!', '\"', '#', '$', '%', '&', \"’\", '(', ')', '*', '+', ',', '-',\n",
    "       '.', '/', '0', '1', '2', '3', '4', '5', '6', '7', '8', '9', ':',\n",
    "       ';', '<', '=', '>', '?', '@', 'A', 'B', 'C', 'D', 'E', 'F', 'G',\n",
    "       'H', 'I', 'J', 'K', 'L', 'M', 'N', 'O', 'P', 'Q', 'R', 'S', 'T',\n",
    "       'U', 'V', 'W', 'X', 'Y', 'Z', '[', '\\\\', ']', '^', '_', '`', 'a',\n",
    "       'b', 'c', 'd', 'e', 'f', 'g', 'h', 'i', 'j', 'k', 'l', 'm', 'n',\n",
    "       'o', 'p', 'q', 'r', 's', 't', 'u', 'v', 'w', 'x', 'y', 'z', '{',\n",
    "       '|', '{', '~']"
   ]
  },
  {
   "cell_type": "code",
   "execution_count": 7,
   "metadata": {},
   "outputs": [],
   "source": [
    "source=\"C:/Users/shubh/Downloads/HELLO_FINAL.jpeg\"\n",
    "img=cv.imread(source)\n",
    "gray=cv.cvtColor(img,cv.COLOR_BGR2GRAY)\n",
    "blur=cv.GaussianBlur(gray, (11,11), cv.BORDER_DEFAULT)\n",
    "canny=cv.Canny(img, 100, 300)"
   ]
  },
  {
   "cell_type": "code",
   "execution_count": 8,
   "metadata": {},
   "outputs": [],
   "source": [
    "cont = cv.findContours(canny.copy(), cv.RETR_EXTERNAL,cv.CHAIN_APPROX_SIMPLE)\n",
    "cont = imutils.grab_contours(cont)\n",
    "cont = sort_contours(cont, method=\"left-to-right\")[0]"
   ]
  },
  {
   "cell_type": "code",
   "execution_count": 10,
   "metadata": {},
   "outputs": [],
   "source": [
    "model=tf.keras.models.load_model(\"C:/Users/shubh/Desktop/Btech/MINI PROJECT/OCR/OCR local file/OCR_MODEL_edited.h5\")"
   ]
  },
  {
   "cell_type": "code",
   "execution_count": 11,
   "metadata": {},
   "outputs": [
    {
     "name": "stdout",
     "output_type": "stream",
     "text": [
      "1/1 [==============================] - 0s 316ms/step\n"
     ]
    }
   ],
   "source": [
    "from numpy import asarray\n",
    "for i in cont:\n",
    "    (x, y, w, h) = cv.boundingRect(i)\n",
    "    img = cv.rectangle(img,(x,y),(x+w,y+h),(0,255,0),2)\n",
    "    if (w >= 10 and w <= 150) and (h >= 20 and h <= 120):\n",
    "        ROI = gray[y:y + h, x:x + w]               #cropping\n",
    "        thresh = cv.threshold(ROI, 0, 255, cv.THRESH_BINARY_INV, cv.THRESH_OTSU)[1]\n",
    "        (tH, tW) = thresh.shape\n",
    "        dX = int(max(0, 32 - tW) / 2.0)\n",
    "        dY = int(max(0, 32 - tH) / 2.0)\n",
    "        padded = cv.copyMakeBorder(thresh, top=dY, bottom=dY, left=dX, right=dX, borderType=cv.BORDER_CONSTANT, value=(0, 0, 0))\n",
    "        padded = cv.resize(padded, (28, 28))\n",
    "        \"\"\" cv.imshow(\"image\", padded)\n",
    "        cv.waitKey(0) \"\"\"\n",
    "        padded = asarray(padded)\n",
    "        padded = np.expand_dims(padded, axis=-1)\n",
    "        chars.append((padded, (x, y, w, h)))\n",
    "boxes = [b[1] for b in chars]\n",
    "chars = np.array([c[0] for c in chars], dtype=\"float32\")\n",
    "preds = model.predict(chars)\n"
   ]
  },
  {
   "cell_type": "code",
   "execution_count": 12,
   "metadata": {},
   "outputs": [
    {
     "name": "stdout",
     "output_type": "stream",
     "text": [
      "output HELLN\n",
      "5\n"
     ]
    }
   ],
   "source": [
    "output = \"\"\n",
    "for (pred, (x, y, w, h)) in zip(preds, boxes):\n",
    "    i = np.argmax(pred)\n",
    "    prob = pred[i]\n",
    "    label = labelNames[i]\n",
    "    output += label\n",
    "\n",
    "print(\"output\",output)\n",
    "print(len(output))"
   ]
  },
  {
   "cell_type": "code",
   "execution_count": null,
   "metadata": {},
   "outputs": [],
   "source": [
    "\"\"\" CORRECT OUTPUT - \"HELLO\"\n",
    "PREDICTED OUTPUT - \"HELLN\" \"\"\""
   ]
  }
 ],
 "metadata": {
  "kernelspec": {
   "display_name": "Python 3",
   "language": "python",
   "name": "python3"
  },
  "language_info": {
   "codemirror_mode": {
    "name": "ipython",
    "version": 3
   },
   "file_extension": ".py",
   "mimetype": "text/x-python",
   "name": "python",
   "nbconvert_exporter": "python",
   "pygments_lexer": "ipython3",
   "version": "3.10.4"
  },
  "orig_nbformat": 4,
  "vscode": {
   "interpreter": {
    "hash": "c69d141fca959081254a0b2e02e55787369c1159b7ddbc81e1232bfadcd3a9e7"
   }
  }
 },
 "nbformat": 4,
 "nbformat_minor": 2
}
