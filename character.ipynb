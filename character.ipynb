{
 "cells": [
  {
   "cell_type": "code",
   "execution_count": 1,
   "metadata": {},
   "outputs": [],
   "source": [
    "import tensorflow as tf\n",
    "from tensorflow import keras\n",
    "#from keras.utils import np_utils\n",
    "from keras.utils import load_img, img_to_array\n",
    "from sklearn.metrics import classification_report\n",
    "\n",
    "import os\n",
    "\n",
    "import pandas as pd\n",
    "import numpy as np\n",
    "from numpy import asarray\n",
    "import cv2\n",
    "from cv2 import cvtColor\n",
    "\n",
    "import matplotlib.pyplot as plt\n",
    "import sklearn\n",
    "from sklearn.model_selection import train_test_split\n",
    "from sklearn.preprocessing import OneHotEncoder\n"
   ]
  },
  {
   "cell_type": "code",
   "execution_count": 2,
   "metadata": {},
   "outputs": [],
   "source": [
    "label_list= []\n",
    "for i in range(97, 123):\n",
    "    label_list.append(chr(i))"
   ]
  },
  {
   "cell_type": "code",
   "execution_count": 165,
   "metadata": {},
   "outputs": [],
   "source": [
    "from PIL import Image\n",
    "path = \"images/K.jpg\"\n",
    "im = Image.open(path)\n",
    "#im.show()"
   ]
  },
  {
   "cell_type": "code",
   "execution_count": 166,
   "metadata": {},
   "outputs": [],
   "source": [
    "img = cv2.imread(path)"
   ]
  },
  {
   "cell_type": "code",
   "execution_count": 167,
   "metadata": {},
   "outputs": [],
   "source": [
    "img=cv2.cvtColor(img, cv2.COLOR_BGR2GRAY)\n",
    "_, img = cv2.threshold(img, 100, 255, cv2.THRESH_BINARY)\n",
    "#cv2.imshow(\"Pic\",img)\n",
    "#img = cv2.equalizeHist(img)\n",
    "img = cv2.bitwise_not(img)\n",
    "#cv2.imshow(\"Invert1\",img)\n",
    "cv2.waitKey(0)\n",
    "\n",
    "img = cv2.resize(img, (28, 28))\n",
    "x = asarray(img)\n",
    "x = x.astype('float32')/255.0\n",
    "\n",
    "x = np.expand_dims(x, axis=0)"
   ]
  },
  {
   "cell_type": "code",
   "execution_count": 168,
   "metadata": {},
   "outputs": [
    {
     "name": "stderr",
     "output_type": "stream",
     "text": [
      "C:\\Users\\shubh\\AppData\\Local\\Temp\\ipykernel_12028\\3158846395.py:1: FutureWarning: elementwise comparison failed; returning scalar instead, but in the future will perform elementwise comparison\n",
      "  x = np.where(x=='True', 1, x)\n",
      "C:\\Users\\shubh\\AppData\\Local\\Temp\\ipykernel_12028\\3158846395.py:2: FutureWarning: elementwise comparison failed; returning scalar instead, but in the future will perform elementwise comparison\n",
      "  x = np.where(x=='False', 0, x)\n"
     ]
    }
   ],
   "source": [
    "x = np.where(x=='True', 1, x)\n",
    "x = np.where(x=='False', 0, x)"
   ]
  },
  {
   "cell_type": "code",
   "execution_count": 169,
   "metadata": {},
   "outputs": [
    {
     "name": "stdout",
     "output_type": "stream",
     "text": [
      "[[[0.         0.         0.         0.         0.         0.         0.         0.         0.         0.         0.         0.         0.         0.         0.         0.         0.         0.         0.         0.         0.         0.         0.         0.         0.         0.         0.         0.        ]\n",
      "  [0.         0.         0.         0.         0.         0.         0.         0.         0.         0.         0.         0.         0.         0.         0.         0.         0.         0.         0.         0.         0.         0.         0.         0.         0.         0.         0.         0.        ]\n",
      "  [0.         0.         0.         0.         0.         0.         0.         0.         0.         0.         0.         0.         0.         0.         0.         0.         0.         0.         0.         0.         0.         0.         0.         0.         0.         0.         0.         0.        ]\n",
      "  [0.         0.         0.         0.         0.         0.         0.         0.         0.         0.         0.         0.         0.         0.         0.         0.         0.         0.         0.         0.         0.         0.         0.         0.         0.         0.         0.         0.        ]\n",
      "  [0.         0.         0.         0.         0.         0.         0.         0.         0.         0.         0.         0.         0.         0.         0.         0.         0.         0.         0.         0.         0.         0.         0.         0.         0.         0.         0.         0.        ]\n",
      "  [0.         0.         0.         0.         0.         0.         0.         0.         0.         0.         0.         0.         0.         0.         0.         0.         0.         0.         0.         0.         0.         0.         0.         0.         0.         0.         0.         0.        ]\n",
      "  [0.         0.         0.         0.         0.         0.         0.         0.         0.         0.         0.         0.         0.         0.         0.         0.         0.         0.         0.         0.         0.         0.         0.         0.         0.         0.         0.         0.        ]\n",
      "  [0.         0.         0.         0.         0.         0.         0.         0.         0.         0.         0.         0.         0.         0.         0.         0.         0.         0.         0.         0.         0.         0.         0.         0.         0.         0.         0.         0.        ]\n",
      "  [0.         0.         0.         0.         0.         0.         0.         0.         0.         0.         0.         0.         0.         0.         0.         0.         0.         0.         0.         0.         0.         0.         0.         0.         0.         0.         0.         0.        ]\n",
      "  [0.         0.         0.         0.         0.         0.         0.         0.         0.         0.         0.         0.         0.         0.         0.         0.         0.         0.         0.         0.         0.         0.         0.         0.         0.         0.         0.         0.        ]\n",
      "  [0.         0.         0.         0.         0.         0.         0.         1.         1.         0.01176471 0.         0.         0.         0.         0.         0.         0.         1.         0.         0.         0.         0.         0.         0.         0.         0.         0.         0.        ]\n",
      "  [0.         0.         0.         0.         0.         0.         0.         1.         1.         1.         0.         0.         0.         0.         0.         1.         1.         1.         0.         0.         0.         0.         0.         0.         0.         0.         0.         0.        ]\n",
      "  [0.         0.         0.         0.         0.         0.         0.         0.9098039  1.         1.         0.         0.         0.         0.         0.96862745 1.         1.         1.         0.         0.         0.         0.         0.         0.         0.         0.         0.         0.        ]\n",
      "  [0.         0.         0.         0.         0.         0.         0.         1.         1.         1.         0.         0.         0.         0.09803922 1.         1.         1.         0.         0.         0.         0.         0.         0.         0.         0.         0.         0.         0.        ]\n",
      "  [0.         0.         0.         0.         0.         0.         0.         1.         1.         1.         1.         0.         0.67058825 1.         1.         1.         0.         0.         0.         0.         0.         0.         0.         0.         0.         0.         0.         0.        ]\n",
      "  [0.         0.         0.         0.         0.         0.         0.         1.         1.         1.         1.         1.         1.         1.         1.         0.         0.         0.         0.         0.         0.         0.         0.         0.         0.         0.         0.         0.        ]\n",
      "  [0.         0.         0.         0.         0.         0.         0.         1.         1.         1.         1.         1.         1.         1.         1.         1.         1.         0.         0.         0.         0.         0.         0.         0.         0.         0.         0.         0.        ]\n",
      "  [0.         0.         0.         0.         0.         0.         0.         0.         1.         1.         1.         1.         1.         1.         1.         1.         1.         1.         1.         1.         0.         0.         0.         0.         0.         0.         0.         0.        ]\n",
      "  [0.         0.         0.         0.         0.         0.         0.         0.         1.         1.         1.         1.         0.         0.         0.         1.         1.         1.         1.         1.         1.         1.         0.         0.         0.         0.         0.         0.        ]\n",
      "  [0.         0.         0.         0.         0.         0.         0.         0.         1.         1.         1.         1.         0.         0.         0.         0.         0.         1.         1.         1.         1.         1.         1.         1.         0.         0.         0.         0.        ]\n",
      "  [0.         0.         0.         0.         0.         0.         0.         0.         1.         1.         1.         1.         0.         0.         0.         0.         0.         0.         0.         1.         1.         1.         1.         1.         0.         0.         0.         0.        ]\n",
      "  [0.         0.         0.         0.         0.         0.         0.         0.         0.         0.         0.         1.         0.         0.         0.         0.         0.         0.         0.         0.         0.         0.         0.         0.         0.         0.         0.         0.        ]\n",
      "  [0.         0.         0.         0.         0.         0.         0.         0.         0.         0.         0.         0.         0.         0.         0.         0.         0.         0.         0.         0.         0.         0.         0.         0.         0.         0.         0.         0.        ]\n",
      "  [0.         0.         0.         0.         0.         0.         0.         0.         0.         0.         0.         0.         0.         0.         0.         0.         0.         0.         0.         0.         0.         0.         0.         0.         0.         0.         0.         0.        ]\n",
      "  [0.         0.         0.         0.         0.         0.         0.         0.         0.         0.         0.         0.         0.         0.         0.         0.         0.         0.         0.         0.         0.         0.         0.         0.         0.         0.         0.         0.        ]\n",
      "  [0.         0.         0.         0.         0.         0.         0.         0.         0.         0.         0.         0.         0.         0.         0.         0.         0.         0.         0.         0.         0.         0.         0.         0.         0.         0.         0.         0.        ]\n",
      "  [0.         0.         0.         0.         0.         0.         0.         0.         0.         0.         0.         0.         0.         0.         0.         0.         0.         0.         0.         0.         0.         0.         0.         0.         0.         0.         0.         0.        ]\n",
      "  [0.         0.         0.         0.         0.         0.         0.         0.         0.         0.         0.         0.         0.         0.         0.         0.         0.         0.         0.         0.         0.         0.         0.         0.         0.         0.         0.         0.        ]]]\n"
     ]
    }
   ],
   "source": [
    "np.set_printoptions(linewidth = 350)\n",
    "print(x)"
   ]
  },
  {
   "cell_type": "code",
   "execution_count": 170,
   "metadata": {},
   "outputs": [
    {
     "name": "stdout",
     "output_type": "stream",
     "text": [
      "<class 'numpy.ndarray'>\n",
      "(1, 28, 28)\n"
     ]
    }
   ],
   "source": [
    "print(type(x))\n",
    "print(x.shape)"
   ]
  },
  {
   "cell_type": "code",
   "execution_count": 171,
   "metadata": {},
   "outputs": [],
   "source": [
    "temp_model_name = tf.keras.models.load_model(\"OCR_MODEL\")"
   ]
  },
  {
   "cell_type": "code",
   "execution_count": 172,
   "metadata": {},
   "outputs": [
    {
     "name": "stdout",
     "output_type": "stream",
     "text": [
      "1/1 [==============================] - 0s 170ms/step\n",
      "1/1 [==============================] - 0s 170ms/step\n"
     ]
    }
   ],
   "source": [
    "ABC = temp_model_name.predict(x)"
   ]
  },
  {
   "cell_type": "code",
   "execution_count": 173,
   "metadata": {},
   "outputs": [
    {
     "name": "stdout",
     "output_type": "stream",
     "text": [
      "[[3.0673611e-06 1.2505182e-06 1.2425017e-05 1.6530690e-08 1.9513676e-05 1.0666070e-09 1.5741865e-06 1.1576013e-02 5.8624904e-13 3.2900968e-07 9.1303694e-01 5.1115913e-04 1.1542714e-03 5.8344594e-04 4.3613230e-07 6.3661997e-07 7.0434869e-13 8.2620436e-06 5.0088676e-07 2.4350248e-04 2.1718866e-04 1.4666934e-04 2.4305426e-03 4.7924280e-02\n",
      "  2.2127900e-02 2.4054521e-09]]\n"
     ]
    }
   ],
   "source": [
    "print(ABC)"
   ]
  },
  {
   "cell_type": "code",
   "execution_count": 174,
   "metadata": {},
   "outputs": [
    {
     "name": "stdout",
     "output_type": "stream",
     "text": [
      "highest accuracy 0.91303694\n",
      "0.9999999\n"
     ]
    }
   ],
   "source": [
    "print(\"highest accuracy \" + str(ABC.max()))\n",
    "max = ABC.max()\n",
    "print(ABC.sum())"
   ]
  },
  {
   "cell_type": "code",
   "execution_count": 175,
   "metadata": {},
   "outputs": [
    {
     "name": "stdout",
     "output_type": "stream",
     "text": [
      "10\n"
     ]
    }
   ],
   "source": [
    "print(ABC.argmax())\n",
    "index = ABC.argmax()"
   ]
  },
  {
   "cell_type": "code",
   "execution_count": 176,
   "metadata": {},
   "outputs": [
    {
     "name": "stdout",
     "output_type": "stream",
     "text": [
      "k\n"
     ]
    }
   ],
   "source": [
    "print(label_list[index])"
   ]
  },
  {
   "cell_type": "code",
   "execution_count": null,
   "metadata": {},
   "outputs": [],
   "source": []
  },
  {
   "cell_type": "code",
   "execution_count": null,
   "metadata": {},
   "outputs": [],
   "source": []
  }
 ],
 "metadata": {
  "kernelspec": {
   "display_name": "Python 3",
   "language": "python",
   "name": "python3"
  },
  "language_info": {
   "codemirror_mode": {
    "name": "ipython",
    "version": 3
   },
   "file_extension": ".py",
   "mimetype": "text/x-python",
   "name": "python",
   "nbconvert_exporter": "python",
   "pygments_lexer": "ipython3",
   "version": "3.10.9"
  }
 },
 "nbformat": 4,
 "nbformat_minor": 2
}
