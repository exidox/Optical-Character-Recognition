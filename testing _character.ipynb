{
 "cells": [
  {
   "cell_type": "code",
   "execution_count": 7,
   "metadata": {},
   "outputs": [],
   "source": [
    "import tensorflow as tf\n",
    "from tensorflow import keras\n",
    "from keras.utils import np_utils\n",
    "from keras.utils import load_img, img_to_array\n",
    "from sklearn.metrics import classification_report\n",
    "\n",
    "import os\n",
    "\n",
    "import pandas as pd\n",
    "import numpy as np\n",
    "from numpy import asarray\n",
    "import cv2\n",
    "from cv2 import cvtColor\n",
    "\n",
    "import matplotlib.pyplot as plt\n",
    "import sklearn\n",
    "from sklearn.model_selection import train_test_split\n",
    "from sklearn.preprocessing import OneHotEncoder\n"
   ]
  },
  {
   "cell_type": "code",
   "execution_count": 8,
   "metadata": {},
   "outputs": [],
   "source": [
    "label_list = ['!', '\"', '#', '$', '%', '&', \"’\", '(', ')', '*', '+', ',', '-',\n",
    "       '.', '/', '0', '1', '2', '3', '4', '5', '6', '7', '8', '9', ':',\n",
    "       ';', '<', '=', '>', '?', '@', 'A', 'B', 'C', 'D', 'E', 'F', 'G',\n",
    "       'H', 'I', 'J', 'K', 'L', 'M', 'N', 'O', 'P', 'Q', 'R', 'S', 'T',\n",
    "       'U', 'V', 'W', 'X', 'Y', 'Z', '[', '\\\\', ']', '^', '_', '`', 'a',\n",
    "       'b', 'c', 'd', 'e', 'f', 'g', 'h', 'i', 'j', 'k', 'l', 'm', 'n',\n",
    "       'o', 'p', 'q', 'r', 's', 't', 'u', 'v', 'w', 'x', 'y', 'z', '{',\n",
    "       '|', '{', '~']"
   ]
  },
  {
   "cell_type": "code",
   "execution_count": 9,
   "metadata": {},
   "outputs": [],
   "source": [
    "from PIL import Image\n",
    "#path = \"C:/Users/shubh/Downloads/DD.png\"\n",
    "#path = \"C:/Users/shubh/Downloads/BBB.png\"\n",
    "path = \"C:/Users/shubh/Downloads/BBB.png\"\n",
    "im = Image.open(path)\n",
    "im.show()"
   ]
  },
  {
   "cell_type": "code",
   "execution_count": 10,
   "metadata": {},
   "outputs": [
    {
     "data": {
      "text/plain": [
       "\" \\nimg = load_img(path, target_size=(28, 28))\\n\\nimg= img.convert('1')\\nx = asarray(img)\\n\\n\\n\\n#x /= 255\\nx = np.expand_dims(x, axis=0)\\n\\n#images = np.vstack([x])\\n \""
      ]
     },
     "execution_count": 10,
     "metadata": {},
     "output_type": "execute_result"
    }
   ],
   "source": [
    "\n",
    "\"\"\" \n",
    "img = load_img(path, target_size=(28, 28))\n",
    "\n",
    "img= img.convert('1')\n",
    "x = asarray(img)\n",
    "\n",
    "\n",
    "\n",
    "#x /= 255\n",
    "x = np.expand_dims(x, axis=0)\n",
    "\n",
    "#images = np.vstack([x])\n",
    " \"\"\"\n",
    "\n"
   ]
  },
  {
   "cell_type": "code",
   "execution_count": 11,
   "metadata": {},
   "outputs": [],
   "source": [
    "img = cv2.imread(path)"
   ]
  },
  {
   "cell_type": "code",
   "execution_count": 12,
   "metadata": {},
   "outputs": [
    {
     "name": "stdout",
     "output_type": "stream",
     "text": [
      "[[[255 255 255]\n",
      "  [255 255 255]\n",
      "  [255 255 255]\n",
      "  ...\n",
      "  [255 255 255]\n",
      "  [255 255 255]\n",
      "  [255 255 255]]\n",
      "\n",
      " [[255 255 255]\n",
      "  [255 255 255]\n",
      "  [255 255 255]\n",
      "  ...\n",
      "  [255 255 255]\n",
      "  [255 255 255]\n",
      "  [255 255 255]]\n",
      "\n",
      " [[255 255 255]\n",
      "  [255 255 255]\n",
      "  [255 255 255]\n",
      "  ...\n",
      "  [255 255 255]\n",
      "  [255 255 255]\n",
      "  [255 255 255]]\n",
      "\n",
      " ...\n",
      "\n",
      " [[255 255 255]\n",
      "  [255 255 255]\n",
      "  [255 255 255]\n",
      "  ...\n",
      "  [255 255 255]\n",
      "  [255 255 255]\n",
      "  [255 255 255]]\n",
      "\n",
      " [[255 255 255]\n",
      "  [255 255 255]\n",
      "  [255 255 255]\n",
      "  ...\n",
      "  [255 255 255]\n",
      "  [255 255 255]\n",
      "  [255 255 255]]\n",
      "\n",
      " [[255 255 255]\n",
      "  [255 255 255]\n",
      "  [255 255 255]\n",
      "  ...\n",
      "  [255 255 255]\n",
      "  [255 255 255]\n",
      "  [255 255 255]]]\n"
     ]
    }
   ],
   "source": [
    "print(img)"
   ]
  },
  {
   "cell_type": "code",
   "execution_count": 13,
   "metadata": {},
   "outputs": [],
   "source": [
    "img=cv2.cvtColor(img, cv2.COLOR_BGR2GRAY)\n",
    "#cv2.imshow(\"Pic\",img)\n",
    "\n",
    "img = cv2.bitwise_not(img)\n",
    "#cv2.imshow(\"Invert1\",img)\n",
    "#cv2.waitKey(0)\n",
    "\n",
    "img = cv2.resize(img, (28, 28))\n",
    "x = asarray(img)\n",
    "\n",
    "x = np.expand_dims(x, axis=0)"
   ]
  },
  {
   "cell_type": "code",
   "execution_count": 14,
   "metadata": {},
   "outputs": [
    {
     "name": "stderr",
     "output_type": "stream",
     "text": [
      "C:\\Users\\shubh\\AppData\\Local\\Temp\\ipykernel_10840\\3158846395.py:1: FutureWarning: elementwise comparison failed; returning scalar instead, but in the future will perform elementwise comparison\n",
      "  x = np.where(x=='True', 1, x)\n",
      "C:\\Users\\shubh\\AppData\\Local\\Temp\\ipykernel_10840\\3158846395.py:2: FutureWarning: elementwise comparison failed; returning scalar instead, but in the future will perform elementwise comparison\n",
      "  x = np.where(x=='False', 0, x)\n"
     ]
    }
   ],
   "source": [
    "x = np.where(x=='True', 1, x)\n",
    "x = np.where(x=='False', 0, x)"
   ]
  },
  {
   "cell_type": "code",
   "execution_count": 15,
   "metadata": {},
   "outputs": [],
   "source": [
    "#x= x/255"
   ]
  },
  {
   "cell_type": "code",
   "execution_count": 16,
   "metadata": {},
   "outputs": [
    {
     "name": "stdout",
     "output_type": "stream",
     "text": [
      "[[[  0   0   0   0   0   0   0   0   0   0   0   0   0   0   0   0   0   0   0   0   0   0   0   0   0   0   0   0]\n",
      "  [  0   0   0   0   0   0   0   0   0   0   0   0   0   0   0   0   0   0   0   0   0   0   0   0   0   0   0   0]\n",
      "  [  0   0   0   0   0   0   0   0   0   0   0   0   0   0   0   0   0   0   0   0   0   0   0   0   0   0   0   0]\n",
      "  [  0   0   0   0   0   0   0   0   0   0   0   0   0   0   0   0   0   0   0   0   0   0   0   0   0   0   0   0]\n",
      "  [  0   0   0 255 255 255 255 255 255 255 255 255 255 255 255 255 255 255 255   4   0   0   0   0   0   0   0   0]\n",
      "  [  0   0   0 255 255 255 255 255 255 255 255 255 255 255 255 255 255 255 255 255 255 255   1   0   0   0   0   0]\n",
      "  [  0   0   0 255 255 255 255 255 255 255 255 255 255 255 255 255 255 255 255 255 255 255 255 255   0   0   0   0]\n",
      "  [  0   0   0   0   0 255 255 255 255 255 255   0   0   0   0   0   0 255 255 255 255 255 255 255   0   0   0   0]\n",
      "  [  0   0   0   0   0 109 255 255 255 255 255   0   0   0   0   0   0   0   0 255 255 255 255 255 255   0   0   0]\n",
      "  [  0   0   0   0   0 109 255 255 255 255 255   0   0   0   0   0   0   0   0 255 255 255 255 255 116   0   0   0]\n",
      "  [  0   0   0   0   0 109 255 255 255 255 255   0   0   0   0   0   0   0  99 255 255 255 255 255   0   0   0   0]\n",
      "  [  0   0   0   0   0 109 255 255 255 255 255   0   0   0   0   0   6 255 255 255 255 255 255   0   0   0   0   0]\n",
      "  [  0   0   0   0   0 109 255 255 255 255 255 255 255 255 255 255 255 255 255 255 255  43   0   0   0   0   0   0]\n",
      "  [  0   0   0   0   0 109 255 255 255 255 255 255 255 255 255 255 255 255 255 255 255 255  16   0   0   0   0   0]\n",
      "  [  0   0   0   0   0 109 255 255 255 255 255   0   0   0   0   0  61 255 255 255 255 255 255 255   0   0   0   0]\n",
      "  [  0   0   0   0   0 109 255 255 255 255 255   0   0   0   0   0   0   0   0 255 255 255 255 255 255   0   0   0]\n",
      "  [  0   0   0   0   0 109 255 255 255 255 255   0   0   0   0   0   0   0   0 255 255 255 255 255 255   0   0   0]\n",
      "  [  0   0   0   0   0 109 255 255 255 255 255   0   0   0   0   0   0   0   0 255 255 255 255 255 255  31   0   0]\n",
      "  [  0   0   0   0   0 109 255 255 255 255 255   0   0   0   0   0   0   0   0 255 255 255 255 255 255   0   0   0]\n",
      "  [  0   0   0   0   0 255 255 255 255 255 255 255   0   0   0   0 166 255 255 255 255 255 255 255 255   0   0   0]\n",
      "  [  0   0   0 255 255 255 255 255 255 255 255 255 255 255 255 255 255 255 255 255 255 255 255 255   0   0   0   0]\n",
      "  [  0   0   0 255 255 255 255 255 255 255 255 255 255 255 255 255 255 255 255 255 255 255   0   0   0   0   0   0]\n",
      "  [  0   0   0 255 255 255 255 255 255 255 255 255 255 255 255 255 161   1   0   0   0   0   0   0   0   0   0   0]\n",
      "  [  0   0   0   0   0   0   0   0   0   0   0   0   0   0   0   0   0   0   0   0   0   0   0   0   0   0   0   0]\n",
      "  [  0   0   0   0   0   0   0   0   0   0   0   0   0   0   0   0   0   0   0   0   0   0   0   0   0   0   0   0]\n",
      "  [  0   0   0   0   0   0   0   0   0   0   0   0   0   0   0   0   0   0   0   0   0   0   0   0   0   0   0   0]\n",
      "  [  0   0   0   0   0   0   0   0   0   0   0   0   0   0   0   0   0   0   0   0   0   0   0   0   0   0   0   0]\n",
      "  [  0   0   0   0   0   0   0   0   0   0   0   0   0   0   0   0   0   0   0   0  40  62  36  57  20  19  45   0]]]\n"
     ]
    }
   ],
   "source": [
    "np.set_printoptions(linewidth = 350)\n",
    "print(x)"
   ]
  },
  {
   "cell_type": "code",
   "execution_count": 17,
   "metadata": {},
   "outputs": [
    {
     "name": "stdout",
     "output_type": "stream",
     "text": [
      "<class 'numpy.ndarray'>\n",
      "(1, 28, 28)\n"
     ]
    }
   ],
   "source": [
    "print(type(x))\n",
    "print(x.shape)"
   ]
  },
  {
   "cell_type": "code",
   "execution_count": 18,
   "metadata": {},
   "outputs": [
    {
     "name": "stdout",
     "output_type": "stream",
     "text": [
      "<class 'numpy.ndarray'>\n"
     ]
    }
   ],
   "source": [
    "print(type(x))"
   ]
  },
  {
   "cell_type": "code",
   "execution_count": 19,
   "metadata": {},
   "outputs": [],
   "source": [
    "temp_model_name = tf.keras.models.load_model(\"C:/Users/shubh/Desktop/Btech/MINI PROJECT/OCR/OCR local file/OCR_MODEL_edited.h5\")"
   ]
  },
  {
   "cell_type": "code",
   "execution_count": 20,
   "metadata": {},
   "outputs": [
    {
     "name": "stdout",
     "output_type": "stream",
     "text": [
      "1/1 [==============================] - 0s 431ms/step\n"
     ]
    }
   ],
   "source": [
    "ABC = temp_model_name.predict(x)"
   ]
  },
  {
   "cell_type": "code",
   "execution_count": 21,
   "metadata": {},
   "outputs": [
    {
     "name": "stdout",
     "output_type": "stream",
     "text": [
      "[[0. 0. 0. 0. 0. 0. 0. 0. 0. 0. 0. 0. 0. 0. 0. 0. 0. 0. 0. 0. 0. 0. 0. 0. 0. 0. 0. 0. 0. 0. 0. 0. 0. 1. 0. 0. 0. 0. 0. 0. 0. 0. 0. 0. 0. 0. 0. 0. 0. 0. 0. 0. 0. 0. 0. 0. 0. 0. 0. 0. 0. 0. 0. 0. 0. 0. 0. 0. 0. 0. 0. 0. 0. 0. 0. 0. 0. 0. 0. 0. 0. 0. 0. 0. 0. 0. 0. 0. 0. 0. 0. 0. 0. 0.]]\n"
     ]
    }
   ],
   "source": [
    "print(ABC)"
   ]
  },
  {
   "cell_type": "code",
   "execution_count": 22,
   "metadata": {},
   "outputs": [
    {
     "name": "stdout",
     "output_type": "stream",
     "text": [
      "highest accuracy 1.0\n",
      "1.0\n"
     ]
    }
   ],
   "source": [
    "print(\"highest accuracy \" + str(ABC.max()))\n",
    "max = ABC.max()\n",
    "print(ABC.sum())"
   ]
  },
  {
   "cell_type": "code",
   "execution_count": 23,
   "metadata": {},
   "outputs": [
    {
     "name": "stdout",
     "output_type": "stream",
     "text": [
      "33\n"
     ]
    }
   ],
   "source": [
    "print(ABC.argmax())\n",
    "index = ABC.argmax()"
   ]
  },
  {
   "cell_type": "code",
   "execution_count": 24,
   "metadata": {},
   "outputs": [
    {
     "name": "stdout",
     "output_type": "stream",
     "text": [
      "94\n"
     ]
    }
   ],
   "source": [
    "print(len(label_list))"
   ]
  },
  {
   "cell_type": "code",
   "execution_count": 25,
   "metadata": {},
   "outputs": [
    {
     "name": "stdout",
     "output_type": "stream",
     "text": [
      "B\n"
     ]
    }
   ],
   "source": [
    "print(label_list[index])"
   ]
  },
  {
   "cell_type": "code",
   "execution_count": null,
   "metadata": {},
   "outputs": [],
   "source": []
  }
 ],
 "metadata": {
  "kernelspec": {
   "display_name": "Python 3",
   "language": "python",
   "name": "python3"
  },
  "language_info": {
   "codemirror_mode": {
    "name": "ipython",
    "version": 3
   },
   "file_extension": ".py",
   "mimetype": "text/x-python",
   "name": "python",
   "nbconvert_exporter": "python",
   "pygments_lexer": "ipython3",
   "version": "3.10.4"
  },
  "orig_nbformat": 4,
  "vscode": {
   "interpreter": {
    "hash": "3ce76490c07a75ea24134e09186af2521c358252e3ea70d858a2691e4a58fda3"
   }
  }
 },
 "nbformat": 4,
 "nbformat_minor": 2
}
