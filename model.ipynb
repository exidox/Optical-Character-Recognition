{
 "cells": [
  {
   "cell_type": "code",
   "execution_count": 2,
   "metadata": {},
   "outputs": [],
   "source": [
    "import tensorflow as tf\n",
    "from tensorflow import keras\n",
    "#from keras.utils import np_utils\n",
    "from keras.utils import load_img, img_to_array\n",
    "from sklearn.metrics import classification_report\n",
    "\n",
    "import os\n",
    "\n",
    "import pandas as pd\n",
    "import numpy as np\n",
    "import cv2\n",
    "from cv2 import imshow\n",
    "\n",
    "import imutils\n",
    "from imutils import build_montages\n",
    "import matplotlib.pyplot as plt\n",
    "import sklearn\n",
    "from sklearn.model_selection import train_test_split\n",
    "from sklearn.preprocessing import OneHotEncoder\n",
    "from sklearn.preprocessing import LabelBinarizer"
   ]
  },
  {
   "cell_type": "code",
   "execution_count": 6,
   "metadata": {},
   "outputs": [
    {
     "data": {
      "text/html": [
       "<div>\n",
       "<style scoped>\n",
       "    .dataframe tbody tr th:only-of-type {\n",
       "        vertical-align: middle;\n",
       "    }\n",
       "\n",
       "    .dataframe tbody tr th {\n",
       "        vertical-align: top;\n",
       "    }\n",
       "\n",
       "    .dataframe thead th {\n",
       "        text-align: right;\n",
       "    }\n",
       "</style>\n",
       "<table border=\"1\" class=\"dataframe\">\n",
       "  <thead>\n",
       "    <tr style=\"text-align: right;\">\n",
       "      <th></th>\n",
       "      <th>0</th>\n",
       "      <th>0.1</th>\n",
       "      <th>0.2</th>\n",
       "      <th>0.3</th>\n",
       "      <th>0.4</th>\n",
       "      <th>0.5</th>\n",
       "      <th>0.6</th>\n",
       "      <th>0.7</th>\n",
       "      <th>0.8</th>\n",
       "      <th>0.9</th>\n",
       "      <th>...</th>\n",
       "      <th>0.639</th>\n",
       "      <th>0.640</th>\n",
       "      <th>0.641</th>\n",
       "      <th>0.642</th>\n",
       "      <th>0.643</th>\n",
       "      <th>0.644</th>\n",
       "      <th>0.645</th>\n",
       "      <th>0.646</th>\n",
       "      <th>0.647</th>\n",
       "      <th>0.648</th>\n",
       "    </tr>\n",
       "  </thead>\n",
       "  <tbody>\n",
       "    <tr>\n",
       "      <th>0</th>\n",
       "      <td>0</td>\n",
       "      <td>0</td>\n",
       "      <td>0</td>\n",
       "      <td>0</td>\n",
       "      <td>0</td>\n",
       "      <td>0</td>\n",
       "      <td>0</td>\n",
       "      <td>0</td>\n",
       "      <td>0</td>\n",
       "      <td>0</td>\n",
       "      <td>...</td>\n",
       "      <td>0</td>\n",
       "      <td>0</td>\n",
       "      <td>0</td>\n",
       "      <td>0</td>\n",
       "      <td>0</td>\n",
       "      <td>0</td>\n",
       "      <td>0</td>\n",
       "      <td>0</td>\n",
       "      <td>0</td>\n",
       "      <td>0</td>\n",
       "    </tr>\n",
       "    <tr>\n",
       "      <th>1</th>\n",
       "      <td>0</td>\n",
       "      <td>0</td>\n",
       "      <td>0</td>\n",
       "      <td>0</td>\n",
       "      <td>0</td>\n",
       "      <td>0</td>\n",
       "      <td>0</td>\n",
       "      <td>0</td>\n",
       "      <td>0</td>\n",
       "      <td>0</td>\n",
       "      <td>...</td>\n",
       "      <td>0</td>\n",
       "      <td>0</td>\n",
       "      <td>0</td>\n",
       "      <td>0</td>\n",
       "      <td>0</td>\n",
       "      <td>0</td>\n",
       "      <td>0</td>\n",
       "      <td>0</td>\n",
       "      <td>0</td>\n",
       "      <td>0</td>\n",
       "    </tr>\n",
       "    <tr>\n",
       "      <th>2</th>\n",
       "      <td>0</td>\n",
       "      <td>0</td>\n",
       "      <td>0</td>\n",
       "      <td>0</td>\n",
       "      <td>0</td>\n",
       "      <td>0</td>\n",
       "      <td>0</td>\n",
       "      <td>0</td>\n",
       "      <td>0</td>\n",
       "      <td>0</td>\n",
       "      <td>...</td>\n",
       "      <td>0</td>\n",
       "      <td>0</td>\n",
       "      <td>0</td>\n",
       "      <td>0</td>\n",
       "      <td>0</td>\n",
       "      <td>0</td>\n",
       "      <td>0</td>\n",
       "      <td>0</td>\n",
       "      <td>0</td>\n",
       "      <td>0</td>\n",
       "    </tr>\n",
       "    <tr>\n",
       "      <th>3</th>\n",
       "      <td>0</td>\n",
       "      <td>0</td>\n",
       "      <td>0</td>\n",
       "      <td>0</td>\n",
       "      <td>0</td>\n",
       "      <td>0</td>\n",
       "      <td>0</td>\n",
       "      <td>0</td>\n",
       "      <td>0</td>\n",
       "      <td>0</td>\n",
       "      <td>...</td>\n",
       "      <td>0</td>\n",
       "      <td>0</td>\n",
       "      <td>0</td>\n",
       "      <td>0</td>\n",
       "      <td>0</td>\n",
       "      <td>0</td>\n",
       "      <td>0</td>\n",
       "      <td>0</td>\n",
       "      <td>0</td>\n",
       "      <td>0</td>\n",
       "    </tr>\n",
       "    <tr>\n",
       "      <th>4</th>\n",
       "      <td>0</td>\n",
       "      <td>0</td>\n",
       "      <td>0</td>\n",
       "      <td>0</td>\n",
       "      <td>0</td>\n",
       "      <td>0</td>\n",
       "      <td>0</td>\n",
       "      <td>0</td>\n",
       "      <td>0</td>\n",
       "      <td>0</td>\n",
       "      <td>...</td>\n",
       "      <td>0</td>\n",
       "      <td>0</td>\n",
       "      <td>0</td>\n",
       "      <td>0</td>\n",
       "      <td>0</td>\n",
       "      <td>0</td>\n",
       "      <td>0</td>\n",
       "      <td>0</td>\n",
       "      <td>0</td>\n",
       "      <td>0</td>\n",
       "    </tr>\n",
       "  </tbody>\n",
       "</table>\n",
       "<p>5 rows × 785 columns</p>\n",
       "</div>"
      ],
      "text/plain": [
       "   0  0.1  0.2  0.3  0.4  0.5  0.6  0.7  0.8  0.9  ...  0.639  0.640  0.641  \\\n",
       "0  0    0    0    0    0    0    0    0    0    0  ...      0      0      0   \n",
       "1  0    0    0    0    0    0    0    0    0    0  ...      0      0      0   \n",
       "2  0    0    0    0    0    0    0    0    0    0  ...      0      0      0   \n",
       "3  0    0    0    0    0    0    0    0    0    0  ...      0      0      0   \n",
       "4  0    0    0    0    0    0    0    0    0    0  ...      0      0      0   \n",
       "\n",
       "   0.642  0.643  0.644  0.645  0.646  0.647  0.648  \n",
       "0      0      0      0      0      0      0      0  \n",
       "1      0      0      0      0      0      0      0  \n",
       "2      0      0      0      0      0      0      0  \n",
       "3      0      0      0      0      0      0      0  \n",
       "4      0      0      0      0      0      0      0  \n",
       "\n",
       "[5 rows x 785 columns]"
      ]
     },
     "execution_count": 6,
     "metadata": {},
     "output_type": "execute_result"
    }
   ],
   "source": [
    "dataset = pd.read_csv(r\"A_Z Handwritten Data/A_Z Handwritten Data.csv\")\n",
    "dataset.head()"
   ]
  },
  {
   "cell_type": "code",
   "execution_count": 7,
   "metadata": {},
   "outputs": [
    {
     "name": "stdout",
     "output_type": "stream",
     "text": [
      "[ 0  1  2  3  4  5  6  7  8  9 10 11 12 13 14 15 16 17 18 19 20 21 22 23\n",
      " 24 25]\n",
      "372450 elements in the dataset\n",
      "26 classes\n"
     ]
    }
   ],
   "source": [
    "print(dataset[\"0\"].unique())\n",
    "print(str(dataset[\"0\"].count()) + \" elements in the dataset\")\n",
    "print(str(dataset[\"0\"].nunique()) + \" classes\")"
   ]
  },
  {
   "cell_type": "code",
   "execution_count": 8,
   "metadata": {},
   "outputs": [],
   "source": [
    "data = dataset.drop(['0'],axis=1)\n",
    "labels = dataset['0']"
   ]
  },
  {
   "cell_type": "code",
   "execution_count": 9,
   "metadata": {},
   "outputs": [],
   "source": [
    "label_char= []\n",
    "for i in range(97, 123):\n",
    "    label_char.append(chr(i))"
   ]
  },
  {
   "cell_type": "code",
   "execution_count": 10,
   "metadata": {},
   "outputs": [
    {
     "name": "stdout",
     "output_type": "stream",
     "text": [
      "['a', 'b', 'c', 'd', 'e', 'f', 'g', 'h', 'i', 'j', 'k', 'l', 'm', 'n', 'o', 'p', 'q', 'r', 's', 't', 'u', 'v', 'w', 'x', 'y', 'z']\n"
     ]
    }
   ],
   "source": [
    "print(label_char)"
   ]
  },
  {
   "cell_type": "code",
   "execution_count": 11,
   "metadata": {},
   "outputs": [
    {
     "data": {
      "image/png": "[encoded data removed]",
      "text/plain": [
       "<Figure size 2000x1000 with 50 Axes>"
      ]
     },
     "metadata": {},
     "output_type": "display_data"
    }
   ],
   "source": [
    "plt.figure(figsize=(20, 10))\n",
    "for i in range(50):  \n",
    "    plt.subplot(5,10,i+1)\n",
    "    plt.title(chr(int(dataset['0'].iloc[i] )+ 97))\n",
    "    plt.imshow(data.values[i].reshape(28,28), cmap=plt.get_cmap('Spectral'))\n",
    "plt.show()"
   ]
  },
  {
   "cell_type": "code",
   "execution_count": 12,
   "metadata": {},
   "outputs": [
    {
     "name": "stderr",
     "output_type": "stream",
     "text": [
      "c:\\Users\\shubh\\AppData\\Local\\Programs\\Python\\Python310\\lib\\site-packages\\sklearn\\preprocessing\\_encoders.py:975: FutureWarning: `sparse` was renamed to `sparse_output` in version 1.2 and will be removed in 1.4. `sparse_output` is ignored unless you leave `sparse` to its default value.\n",
      "  warnings.warn(\n"
     ]
    }
   ],
   "source": [
    "encoded = OneHotEncoder(sparse=False,handle_unknown='ignore')\n",
    "labels=encoded.fit_transform(labels.values.reshape(-1,1))"
   ]
  },
  {
   "cell_type": "code",
   "execution_count": 13,
   "metadata": {},
   "outputs": [],
   "source": [
    "train_data, test_data, train_label, test_label = train_test_split( data , labels , test_size=0.25, random_state=42,stratify=labels)"
   ]
  },
  {
   "cell_type": "code",
   "execution_count": 14,
   "metadata": {},
   "outputs": [
    {
     "name": "stdout",
     "output_type": "stream",
     "text": [
      "train data shape : (279337, 784)\n",
      "test data shape : (93113, 784)\n"
     ]
    }
   ],
   "source": [
    "print(\"train data shape :\" , train_data.shape)\n",
    "print(\"test data shape :\" , test_data.shape)"
   ]
  },
  {
   "cell_type": "code",
   "execution_count": 15,
   "metadata": {},
   "outputs": [],
   "source": [
    "train_data= (train_data.astype('float32'))/255.0\n",
    "test_data = (test_data.astype('float32'))/255.0"
   ]
  },
  {
   "cell_type": "code",
   "execution_count": 16,
   "metadata": {},
   "outputs": [],
   "source": [
    "train_data = train_data.values.reshape(train_data.shape[0],28,28,1)\n",
    "test_data =test_data.values.reshape(test_data.shape[0],28,28,1)"
   ]
  },
  {
   "cell_type": "code",
   "execution_count": 17,
   "metadata": {},
   "outputs": [
    {
     "name": "stdout",
     "output_type": "stream",
     "text": [
      "train data shape : (279337, 28, 28, 1)\n",
      "test data shape : (93113, 28, 28, 1)\n"
     ]
    }
   ],
   "source": [
    "print(\"train data shape :\" , train_data.shape)\n",
    "print(\"test data shape :\" , test_data.shape)"
   ]
  },
  {
   "cell_type": "code",
   "execution_count": 89,
   "metadata": {},
   "outputs": [],
   "source": [
    "model = tf.keras.models.Sequential([\n",
    "    tf.keras.layers.Conv2D(64, (3,3), activation= \"relu\", input_shape =(28,28,1)),\n",
    "    tf.keras.layers.MaxPooling2D(2,2),\n",
    "\n",
    "    tf.keras.layers.Conv2D(128, (3,3), activation= \"relu\"),\n",
    "    tf.keras.layers.MaxPooling2D(2,2),\n",
    "\n",
    "    tf.keras.layers.Conv2D(64, (3,3), activation= \"relu\"),\n",
    "    tf.keras.layers.MaxPooling2D(2,2),\n",
    "\n",
    "    tf.keras.layers.Flatten(),\n",
    "\n",
    "    tf.keras.layers.Dense(512, activation =\"relu\"),\n",
    "    tf.keras.layers.Dense(26, activation = \"softmax\")\n",
    "])"
   ]
  },
  {
   "cell_type": "code",
   "execution_count": 90,
   "metadata": {},
   "outputs": [
    {
     "name": "stdout",
     "output_type": "stream",
     "text": [
      "Model: \"sequential_3\"\n",
      "_________________________________________________________________\n",
      " Layer (type)                Output Shape              Param #   \n",
      "_________________________________________________________________\n",
      " Layer (type)                Output Shape              Param #   \n",
      "=================================================================\n",
      " conv2d_9 (Conv2D)           (None, 26, 26, 64)        640       \n",
      "                                                                 \n",
      " max_pooling2d_9 (MaxPoolin  (None, 13, 13, 64)        0         \n",
      " g2D)                                                            \n",
      "                                                                 \n",
      " conv2d_10 (Conv2D)          (None, 11, 11, 128)       73856     \n",
      "                                                                 \n",
      " max_pooling2d_10 (MaxPooli  (None, 5, 5, 128)         0         \n",
      " ng2D)                                                           \n",
      "                                                                 \n",
      " conv2d_11 (Conv2D)          (None, 3, 3, 64)          73792     \n",
      "                                                                 \n",
      " max_pooling2d_11 (MaxPooli  (None, 1, 1, 64)          0         \n",
      " ng2D)                                                           \n",
      "                                                                 \n",
      " flatten_3 (Flatten)         (None, 64)                0         \n",
      "                                                                 \n",
      " dense_6 (Dense)             (None, 512)               33280     \n",
      "                                                                 \n",
      " dense_7 (Dense)             (None, 26)                13338     \n",
      "                                                                 \n",
      "=================================================================\n",
      "Total params: 194906 (761.35 KB)\n",
      "Trainable params: 194906 (761.35 KB)\n",
      "Non-trainable params: 0 (0.00 Byte)\n",
      "_________________________________________________________________\n"
     ]
    }
   ],
   "source": [
    "model.summary()"
   ]
  },
  {
   "cell_type": "code",
   "execution_count": 91,
   "metadata": {},
   "outputs": [],
   "source": [
    "model.compile(optimizer = \"adam\", loss = \"categorical_crossentropy\", metrics = [\"accuracy\"])"
   ]
  },
  {
   "cell_type": "code",
   "execution_count": 92,
   "metadata": {},
   "outputs": [],
   "source": [
    "augmentation = tf.keras.preprocessing.image.ImageDataGenerator(\n",
    "rotation_range=10,\n",
    "zoom_range=0.05,\n",
    "width_shift_range=0.1,\n",
    "height_shift_range=0.1,\n",
    "shear_range=0.15,\n",
    "horizontal_flip=False,\n",
    "fill_mode=\"nearest\")"
   ]
  },
  {
   "cell_type": "code",
   "execution_count": 93,
   "metadata": {},
   "outputs": [],
   "source": [
    "EPOCHS = 15\n",
    "BS = 128"
   ]
  },
  {
   "cell_type": "code",
   "execution_count": 94,
   "metadata": {},
   "outputs": [
    {
     "name": "stdout",
     "output_type": "stream",
     "text": [
      "Epoch 1/15\n",
      "2182/2182 [==============================] - 380s 173ms/step - loss: 0.4172 - accuracy: 0.8754 - val_loss: 0.1641 - val_accuracy: 0.9508\n",
      "Epoch 2/15\n",
      "2182/2182 [==============================] - 397s 182ms/step - loss: 0.1720 - accuracy: 0.9481 - val_loss: 0.0987 - val_accuracy: 0.9705\n",
      "Epoch 3/15\n",
      "2182/2182 [==============================] - 434s 199ms/step - loss: 0.1383 - accuracy: 0.9582 - val_loss: 0.0836 - val_accuracy: 0.9756\n",
      "Epoch 4/15\n",
      "2182/2182 [==============================] - 471s 216ms/step - loss: 0.1224 - accuracy: 0.9625 - val_loss: 0.0698 - val_accuracy: 0.9800\n",
      "Epoch 5/15\n",
      "2182/2182 [==============================] - 432s 198ms/step - loss: 0.1122 - accuracy: 0.9656 - val_loss: 0.0764 - val_accuracy: 0.9781\n",
      "Epoch 6/15\n",
      "2182/2182 [==============================] - 471s 216ms/step - loss: 0.1031 - accuracy: 0.9688 - val_loss: 0.0760 - val_accuracy: 0.9776\n",
      "Epoch 7/15\n",
      "2182/2182 [==============================] - 455s 209ms/step - loss: 0.0970 - accuracy: 0.9701 - val_loss: 0.0660 - val_accuracy: 0.9808\n",
      "Epoch 8/15\n",
      "2182/2182 [==============================] - 446s 204ms/step - loss: 0.0919 - accuracy: 0.9717 - val_loss: 0.0678 - val_accuracy: 0.9806\n",
      "Epoch 9/15\n",
      "2182/2182 [==============================] - 469s 215ms/step - loss: 0.0889 - accuracy: 0.9727 - val_loss: 0.0599 - val_accuracy: 0.9822\n",
      "Epoch 10/15\n",
      "2182/2182 [==============================] - 446s 204ms/step - loss: 0.0858 - accuracy: 0.9733 - val_loss: 0.0642 - val_accuracy: 0.9817\n",
      "Epoch 11/15\n",
      "2182/2182 [==============================] - 403s 184ms/step - loss: 0.0827 - accuracy: 0.9742 - val_loss: 0.0710 - val_accuracy: 0.9784\n",
      "Epoch 12/15\n",
      "2182/2182 [==============================] - 463s 212ms/step - loss: 0.0811 - accuracy: 0.9748 - val_loss: 0.0569 - val_accuracy: 0.9840\n",
      "Epoch 13/15\n",
      "2182/2182 [==============================] - 412s 189ms/step - loss: 0.0785 - accuracy: 0.9755 - val_loss: 0.0575 - val_accuracy: 0.9830\n",
      "Epoch 14/15\n",
      "2182/2182 [==============================] - 453s 208ms/step - loss: 0.0769 - accuracy: 0.9761 - val_loss: 0.0556 - val_accuracy: 0.9838\n",
      "Epoch 15/15\n",
      "2182/2182 [==============================] - 371s 170ms/step - loss: 0.0746 - accuracy: 0.9766 - val_loss: 0.0598 - val_accuracy: 0.9823\n"
     ]
    }
   ],
   "source": [
    "history = model.fit(\n",
    "\taugmentation.flow(train_data, train_label, batch_size=BS),\n",
    "\tvalidation_data=(test_data, test_label),\n",
    "\tsteps_per_epoch=len(train_data) // BS,\n",
    "\tepochs=EPOCHS,\n",
    "\tverbose=1)"
   ]
  },
  {
   "cell_type": "code",
   "execution_count": 95,
   "metadata": {},
   "outputs": [
    {
     "name": "stdout",
     "output_type": "stream",
     "text": [
      "728/728 [==============================] - 26s 36ms/step - loss: 0.0598 - accuracy: 0.9823\n"
     ]
    }
   ],
   "source": [
    "evaluation = model.evaluate(test_data, test_label, batch_size= 128, verbose=1)"
   ]
  },
  {
   "cell_type": "code",
   "execution_count": 96,
   "metadata": {},
   "outputs": [
    {
     "name": "stdout",
     "output_type": "stream",
     "text": [
      "Summary: Loss over the test dataset: 0.06, Accuracy: 0.9823\n"
     ]
    }
   ],
   "source": [
    "print('Summary: Loss over the test dataset: %.2f, Accuracy: %.4f' % (evaluation[0], evaluation[1]))"
   ]
  },
  {
   "cell_type": "code",
   "execution_count": 98,
   "metadata": {},
   "outputs": [
    {
     "name": "stderr",
     "output_type": "stream",
     "text": [
      "c:\\Users\\shubh\\AppData\\Local\\Programs\\Python\\Python310\\lib\\site-packages\\keras\\src\\engine\\training.py:3079: UserWarning: You are saving your model as an HDF5 file via `model.save()`. This file format is considered legacy. We recommend using instead the native Keras format, e.g. `model.save('my_model.keras')`.\n",
      "  saving_api.save_model(\n"
     ]
    }
   ],
   "source": [
    "#model.save('OCR_MODEL',save_format=\"h5\")"
   ]
  },
  {
   "cell_type": "code",
   "execution_count": 18,
   "metadata": {},
   "outputs": [],
   "source": [
    "temp_model_name = tf.keras.models.load_model(\"OCR_MODEL\")"
   ]
  },
  {
   "cell_type": "code",
   "execution_count": 19,
   "metadata": {},
   "outputs": [
    {
     "name": "stdout",
     "output_type": "stream",
     "text": [
      "728/728 [==============================] - 26s 36ms/step\n",
      "              precision    recall  f1-score   support\n",
      "\n",
      "           a       0.99      0.98      0.99      3467\n",
      "           b       0.95      0.98      0.97      2167\n",
      "           c       0.98      0.97      0.98      5852\n",
      "           d       0.95      0.95      0.95      2534\n",
      "           e       0.99      0.98      0.99      2860\n",
      "           f       0.91      0.99      0.95       291\n",
      "           g       0.98      0.97      0.97      1440\n",
      "           h       0.97      0.98      0.97      1804\n",
      "           i       0.96      0.89      0.92       280\n",
      "           j       0.97      0.96      0.97      2123\n",
      "           k       0.98      0.98      0.98      1401\n",
      "           l       0.99      0.95      0.97      2897\n",
      "           m       0.99      0.99      0.99      3084\n",
      "           n       0.99      0.98      0.99      4753\n",
      "           o       0.98      0.99      0.99     14456\n",
      "           p       0.99      0.99      0.99      4835\n",
      "           q       0.96      0.97      0.96      1453\n",
      "           r       0.98      0.98      0.98      2892\n",
      "           s       0.99      1.00      0.99     12105\n",
      "           t       0.99      0.99      0.99      5624\n",
      "           u       0.99      0.97      0.98      7252\n",
      "           v       0.96      0.99      0.98      1045\n",
      "           w       0.95      0.99      0.97      2696\n",
      "           x       0.98      0.99      0.98      1568\n",
      "           y       0.99      0.97      0.98      2715\n",
      "           z       0.98      0.98      0.98      1519\n",
      "\n",
      "    accuracy                           0.98     93113\n",
      "   macro avg       0.98      0.98      0.98     93113\n",
      "weighted avg       0.98      0.98      0.98     93113\n",
      "\n"
     ]
    }
   ],
   "source": [
    "predictions = temp_model_name.predict(test_data, batch_size=128)\n",
    "print(classification_report(test_label.argmax(axis=1), predictions.argmax(axis=1), target_names= label_char))"
   ]
  },
  {
   "cell_type": "code",
   "execution_count": 20,
   "metadata": {},
   "outputs": [
    {
     "name": "stdout",
     "output_type": "stream",
     "text": [
      "1/1 [==============================] - 0s 29ms/step\n",
      "1/1 [==============================] - 0s 29ms/step\n",
      "1/1 [==============================] - 0s 26ms/step\n",
      "1/1 [==============================] - 0s 27ms/step\n",
      "1/1 [==============================] - 0s 27ms/step\n",
      "1/1 [==============================] - 0s 26ms/step\n",
      "1/1 [==============================] - 0s 27ms/step\n",
      "1/1 [==============================] - 0s 27ms/step\n",
      "1/1 [==============================] - 0s 26ms/step\n",
      "1/1 [==============================] - 0s 27ms/step\n",
      "1/1 [==============================] - 0s 31ms/step\n",
      "1/1 [==============================] - 0s 31ms/step\n",
      "1/1 [==============================] - 0s 31ms/step\n",
      "1/1 [==============================] - 0s 31ms/step\n",
      "1/1 [==============================] - 0s 31ms/step\n",
      "1/1 [==============================] - 0s 31ms/step\n",
      "1/1 [==============================] - 0s 31ms/step\n",
      "1/1 [==============================] - 0s 22ms/step\n",
      "1/1 [==============================] - 0s 41ms/step\n",
      "1/1 [==============================] - 0s 39ms/step\n",
      "1/1 [==============================] - 0s 33ms/step\n",
      "1/1 [==============================] - 0s 16ms/step\n",
      "1/1 [==============================] - 0s 33ms/step\n",
      "1/1 [==============================] - 0s 32ms/step\n",
      "1/1 [==============================] - 0s 33ms/step\n",
      "1/1 [==============================] - 0s 31ms/step\n",
      "1/1 [==============================] - 0s 33ms/step\n",
      "1/1 [==============================] - 0s 33ms/step\n",
      "1/1 [==============================] - 0s 28ms/step\n",
      "1/1 [==============================] - 0s 34ms/step\n",
      "1/1 [==============================] - 0s 16ms/step\n",
      "1/1 [==============================] - 0s 49ms/step\n",
      "1/1 [==============================] - 0s 33ms/step\n",
      "1/1 [==============================] - 0s 32ms/step\n",
      "1/1 [==============================] - 0s 33ms/step\n",
      "1/1 [==============================] - 0s 31ms/step\n",
      "1/1 [==============================] - 0s 33ms/step\n",
      "1/1 [==============================] - 0s 34ms/step\n",
      "1/1 [==============================] - 0s 32ms/step\n",
      "1/1 [==============================] - 0s 30ms/step\n",
      "1/1 [==============================] - 0s 31ms/step\n",
      "1/1 [==============================] - 0s 83ms/step\n",
      "1/1 [==============================] - 0s 32ms/step\n",
      "1/1 [==============================] - 0s 28ms/step\n",
      "1/1 [==============================] - 0s 28ms/step\n",
      "1/1 [==============================] - 0s 33ms/step\n",
      "1/1 [==============================] - 0s 27ms/step\n",
      "1/1 [==============================] - 0s 27ms/step\n",
      "1/1 [==============================] - 0s 31ms/step\n"
     ]
    },
    {
     "data": {
      "text/plain": [
       "-1"
      ]
     },
     "execution_count": 20,
     "metadata": {},
     "output_type": "execute_result"
    }
   ],
   "source": [
    "images = []\n",
    "output = \"\"\n",
    "\n",
    "for i in np.random.choice(np.arange(0, len(test_label)), size=(49,)):\n",
    "  probs = temp_model_name.predict(test_data[np.newaxis, i])\n",
    "  prediction = probs.argmax(axis=1)\n",
    "  label = label_char[prediction[0]]\n",
    "  output+=label\n",
    "  image = (test_data[i] * 255).astype(\"uint8\")\n",
    "  color = (0, 255, 0)\n",
    "  if prediction[0] != np.argmax(test_label[i]):\n",
    "    color = (0, 0, 255)\n",
    "  image = cv2.merge([image] * 3)\n",
    "  image = cv2.resize(image, (96, 96), interpolation=cv2.INTER_LINEAR)\n",
    "  cv2.putText(image, label, (5, 20), cv2.FONT_HERSHEY_SIMPLEX, 0.75,\n",
    "\t\tcolor, 2)\n",
    "  images.append(image)\n",
    "montage = build_montages(images, (97, 97), (7, 7))[0]\n",
    "cv2.imshow(\"\",montage)\n",
    "cv2.waitKey(0)"
   ]
  }
 ],
 "metadata": {
  "kernelspec": {
   "display_name": "Python 3",
   "language": "python",
   "name": "python3"
  },
  "language_info": {
   "codemirror_mode": {
    "name": "ipython",
    "version": 3
   },
   "file_extension": ".py",
   "mimetype": "text/x-python",
   "name": "python",
   "nbconvert_exporter": "python",
   "pygments_lexer": "ipython3",
   "version": "3.10.9"
  }
 },
 "nbformat": 4,
 "nbformat_minor": 2
}
